{
  "nbformat": 4,
  "nbformat_minor": 0,
  "metadata": {
    "colab": {
      "provenance": []
    },
    "kernelspec": {
      "name": "python3",
      "display_name": "Python 3"
    },
    "language_info": {
      "name": "python"
    }
  },
  "cells": [
    {
      "cell_type": "markdown",
      "source": [
        "\n",
        "To determine if there's a significant association between the type of smart home device purchased i.e Smart Thermostats vs. Smart Lightsstore.\n",
        "Smart Thermostats and Smart Lights data is only required and is stored in table format using numpy\n"
      ],
      "metadata": {
        "id": "A_Z07HYQPQZz"
      }
    },
    {
      "cell_type": "code",
      "source": [
        "#import libraries\n",
        "import numpy as np\n",
        "from scipy.stats import chi2_contingency, chi2\n",
        "data = np.array([\n",
        "    [50, 70],  # Very Satisfied\n",
        "    [80, 100],  # Satisfied\n",
        "    [60, 90],  # Neutral\n",
        "    [30, 50],  # Unsatisfied\n",
        "    [20, 50]   # Very Unsatisfied\n",
        "])"
      ],
      "metadata": {
        "id": "YRHnjp7INXmz"
      },
      "execution_count": 15,
      "outputs": []
    },
    {
      "cell_type": "markdown",
      "source": [
        "#1. State the Hypotheses:\n",
        "\n",
        "Null Hypothesis (H₀): There is no such association between the type of smart home device and customer satisfaction.\n",
        "\n",
        "Alternative Hypothesis (H₁): There is an association between the type of smart home device and customer satisfaction."
      ],
      "metadata": {
        "id": "Q0_2BNYgPMyZ"
      }
    },
    {
      "cell_type": "markdown",
      "source": [
        "#2. Compute the Chi-Square Statistic:\n",
        "\n",
        "formula of Chi-Square = Σ [(Observed Frequency - Expected Frequency)² / Expected Frequency], where Expected Frequency = (Row Total * Column Total) / Grand Total\n",
        "\n",
        "here we have imported the chi2_contingency and chi2 from scipy.stats python library to compute chi-square easily"
      ],
      "metadata": {
        "id": "SoHZJowyRFSN"
      }
    },
    {
      "cell_type": "code",
      "source": [
        "# Compute the Chi-Square Statistics and store in variables\n",
        "c2_stat, p_value, dof, expected = chi2_contingency(data)\n",
        "print(f\"Chi-Square Statistic: {c2_stat:.2f}\\nP-value: {p_value:.4f}\\nDegrees of Freedom: {dof}\")"
      ],
      "metadata": {
        "colab": {
          "base_uri": "https://localhost:8080/"
        },
        "id": "WVcPob-sNgXv",
        "outputId": "b7619d27-734e-48b0-b407-8e60fe9c8685"
      },
      "execution_count": 16,
      "outputs": [
        {
          "output_type": "stream",
          "name": "stdout",
          "text": [
            "Chi-Square Statistic: 5.64\n",
            "P-value: 0.2278\n",
            "Degrees of Freedom: 4\n"
          ]
        }
      ]
    },
    {
      "cell_type": "code",
      "source": [
        "#chisquare calculation without built-in stats libraries\n",
        "r_total = data.sum(axis=1)\n",
        "c_total = data.sum(axis=0)\n",
        "grand_total = data.sum()\n",
        "expected = np.outer(r_total, c_total) / grand_total\n",
        "expected = np.where(data == 0, 0, expected)\n",
        "chi_square_stat = ((data - expected)**2 / expected).sum().sum()\n",
        "print(f\"Chi-Square Statistic: {chi_square_stat:.2f}\")"
      ],
      "metadata": {
        "colab": {
          "base_uri": "https://localhost:8080/"
        },
        "id": "BTziRuKoSIkG",
        "outputId": "f72a8530-8951-44ab-f3ad-293471840a09"
      },
      "execution_count": 17,
      "outputs": [
        {
          "output_type": "stream",
          "name": "stdout",
          "text": [
            "Chi-Square Statistic: 5.64\n"
          ]
        }
      ]
    },
    {
      "cell_type": "markdown",
      "source": [
        "both the built-in method and calculation method has given same chisquare test value"
      ],
      "metadata": {
        "id": "5CWaA-7JTZ5c"
      }
    },
    {
      "cell_type": "markdown",
      "source": [
        "#3. Determine the Critical Value\n",
        "\n",
        "Using the significance level (alpha) of 0.05 and the degrees of freedom (which is the number of categories minus 1)"
      ],
      "metadata": {
        "id": "wmfsg--SRI8c"
      }
    },
    {
      "cell_type": "code",
      "source": [
        "# Determine the Critical Value\n",
        "alpha = 0.05 # given in the query\n",
        "critical_value = chi2.ppf(1 - alpha, dof)\n",
        "print(f\"Critical Value: {round(critical_value,2)}\")"
      ],
      "metadata": {
        "colab": {
          "base_uri": "https://localhost:8080/"
        },
        "id": "dYG2PDEcNvQG",
        "outputId": "04b1a356-0c45-4033-99b6-2cf2b8ec74bf"
      },
      "execution_count": 18,
      "outputs": [
        {
          "output_type": "stream",
          "name": "stdout",
          "text": [
            "Critical Value: 9.49\n"
          ]
        }
      ]
    },
    {
      "cell_type": "markdown",
      "source": [
        "#4. Make a Decision"
      ],
      "metadata": {
        "id": "OK8hGWb0Uaqi"
      }
    },
    {
      "cell_type": "code",
      "source": [
        "# Make a Decision\n",
        "\n",
        "if c2_stat > critical_value: decision = \"Reject the null hypothesis\"\n",
        "else: decision = \"Fail to reject the null hypothesis\"\n",
        "\n",
        "decision"
      ],
      "metadata": {
        "colab": {
          "base_uri": "https://localhost:8080/",
          "height": 36
        },
        "id": "tZgwK4NNN2Om",
        "outputId": "59fa2ecd-9ad4-43e0-fa66-3434c2d1224e"
      },
      "execution_count": 19,
      "outputs": [
        {
          "output_type": "execute_result",
          "data": {
            "text/plain": [
              "'Fail to reject the null hypothesis'"
            ],
            "application/vnd.google.colaboratory.intrinsic+json": {
              "type": "string"
            }
          },
          "metadata": {},
          "execution_count": 19
        }
      ]
    },
    {
      "cell_type": "markdown",
      "source": [
        "By Comparing the Chi-Square statistic with the critical value, we can decide  to accept the null hypothesis."
      ],
      "metadata": {
        "id": "AZVNKX_IUiEI"
      }
    },
    {
      "cell_type": "markdown",
      "source": [
        "#Conclusion\n",
        "\n",
        "Based on the Chi-Square testing, We can say- There is no significant evidence to suggest an association between the type of smart home device (Smart Thermostats vs. Smart Lights) and customer satisfaction levels."
      ],
      "metadata": {
        "id": "cKrb0nMdU2d8"
      }
    }
  ]
}