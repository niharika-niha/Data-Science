{
  "nbformat": 4,
  "nbformat_minor": 0,
  "metadata": {
    "colab": {
      "provenance": []
    },
    "kernelspec": {
      "name": "python3",
      "display_name": "Python 3"
    },
    "language_info": {
      "name": "python"
    }
  },
  "cells": [
    {
      "cell_type": "markdown",
      "source": [
        "**Data Provided:**\n",
        "\n",
        "•\tThe theoretical weekly operating cost model: W = $1,000 + $5X\n",
        "\n",
        "•\tSample of 25 restaurants with a mean weekly cost of Rs. 3,050\n",
        "\n",
        "•\tNumber of units produced in a week (X) follows a normal distribution with a mean (μ) of 600 units and a standard deviation (σ) of 25 units\n"
      ],
      "metadata": {
        "id": "wsvWZpI88xtQ"
      }
    },
    {
      "cell_type": "markdown",
      "source": [
        "#1. State the Hypotheses statement:"
      ],
      "metadata": {
        "id": "ldZpmCCW9FjH"
      }
    },
    {
      "cell_type": "markdown",
      "source": [
        "Null Hypothesis (H₀): There is no change in the restaurant weekly operating costs and the mean is equal to the theoretical cost.\n",
        "H₀: μ = 1000 + 5600 = 4000*\n",
        "\n",
        "Alternative Hypothesis (H₁): There is change of increasing in the restaurant weekly operating costs and the mean is greater than the theoretical cost.\n",
        "H₁: μ > 4000\n",
        "\n",
        "This is a one-tailed test (right tailed test) since we are investigating whether the costs are higher than expected."
      ],
      "metadata": {
        "id": "-E8eHPu989JC"
      }
    },
    {
      "cell_type": "markdown",
      "source": [
        "#2. Calculate the Test Statistic:\n",
        "\n",
        "**given data**\n",
        "\n",
        "Sample_mean (x̄) = 3,050\n",
        "\n",
        "Theoretical_mean (μ) = 4,000\n",
        "\n",
        "Standard_deviation (σ) = 5 * 25 = 125\n",
        "\n",
        "Sample_size (n) = 25"
      ],
      "metadata": {
        "id": "bkMnz-mY9-ze"
      }
    },
    {
      "cell_type": "code",
      "source": [
        "#given data\n",
        "Sample_mean= 3050\n",
        "Theoretical_mean= 4000\n",
        "Standard_deviation= 5 * 25\n",
        "Sample_size= 25\n",
        "\n",
        "# Using the formula for the z-test statistic: z = (x̄ - μ) / (σ / √n)\n",
        "z=(Sample_mean-Theoretical_mean)/(Standard_deviation/Sample_size**0.5)\n",
        "z"
      ],
      "metadata": {
        "colab": {
          "base_uri": "https://localhost:8080/"
        },
        "id": "qASLgZ_L92PO",
        "outputId": "4a2bf306-b502-41c2-9167-d027627fe063"
      },
      "execution_count": 15,
      "outputs": [
        {
          "output_type": "execute_result",
          "data": {
            "text/plain": [
              "-38.0"
            ]
          },
          "metadata": {},
          "execution_count": 15
        }
      ]
    },
    {
      "cell_type": "markdown",
      "source": [
        "#3. Determine the Critical Value:\n",
        "\n",
        "Using the alpha level of 5% (α = 0.05), determine the critical value from the standard normal (Z) distribution table.\n"
      ],
      "metadata": {
        "id": "k9X5WiOL-4pu"
      }
    },
    {
      "cell_type": "code",
      "source": [
        "#For a one-tailed test with α = 0.05, the critical value from the standard normal (Z) distribution table is 1.645.\n",
        "from scipy import stats\n",
        "z_critical = round(stats.norm.ppf(1-0.05),3) #Taken critical value.\n",
        "# Because H1 is concerned with values that are greater than 4000, we have a right-tail test\n",
        "z_critical"
      ],
      "metadata": {
        "colab": {
          "base_uri": "https://localhost:8080/"
        },
        "id": "M2-ilUAS-7sX",
        "outputId": "8cb30032-14bc-4af4-e85d-a7797a5cd697"
      },
      "execution_count": 16,
      "outputs": [
        {
          "output_type": "execute_result",
          "data": {
            "text/plain": [
              "1.645"
            ]
          },
          "metadata": {},
          "execution_count": 16
        }
      ]
    },
    {
      "cell_type": "markdown",
      "source": [
        "#4. Make a Decision:\n",
        "Compare the test statistic with the critical value to decide whether to reject the null hypothesis.\n"
      ],
      "metadata": {
        "id": "HNoxBTQACCrA"
      }
    },
    {
      "cell_type": "code",
      "source": [
        "if z<z_critical:\n",
        "  decision =\"Reject\"\n",
        "else:\n",
        "  decision =\"Failed to Reject\"\n",
        "\n",
        "decision"
      ],
      "metadata": {
        "id": "LiKeSimADsYd",
        "colab": {
          "base_uri": "https://localhost:8080/",
          "height": 36
        },
        "outputId": "57a77403-f3af-4afb-ff61-6ab4cefca2b0"
      },
      "execution_count": 17,
      "outputs": [
        {
          "output_type": "execute_result",
          "data": {
            "text/plain": [
              "'Reject'"
            ],
            "application/vnd.google.colaboratory.intrinsic+json": {
              "type": "string"
            }
          },
          "metadata": {},
          "execution_count": 17
        }
      ]
    },
    {
      "cell_type": "markdown",
      "source": [
        "#5. Conclusion:"
      ],
      "metadata": {
        "id": "Jf-pn9fCGHnp"
      }
    },
    {
      "cell_type": "code",
      "source": [
        "if decision == \"Reject\":\n",
        "    conclusion = \"There is statistically significant evidence that the actual costs are significantly different from the theoretical costs.\"\n",
        "else:\n",
        "    conclusion = \"There is not enough evidence to support the claim that the actual costs are significantly different from the theoretical costs.\"\n",
        "conclusion"
      ],
      "metadata": {
        "id": "IDvvKsrxH_Bl",
        "colab": {
          "base_uri": "https://localhost:8080/",
          "height": 36
        },
        "outputId": "f9d7a3b2-04b6-4898-dd88-d368dbd1e306"
      },
      "execution_count": 18,
      "outputs": [
        {
          "output_type": "execute_result",
          "data": {
            "text/plain": [
              "'There is statistically significant evidence that the actual costs are significantly different from the theoretical costs.'"
            ],
            "application/vnd.google.colaboratory.intrinsic+json": {
              "type": "string"
            }
          },
          "metadata": {},
          "execution_count": 18
        }
      ]
    },
    {
      "cell_type": "markdown",
      "source": [
        "\n",
        "Hence, from the above hypothesis testing, there is not strong evidence to support the restaurant owner claim that the weekly operating costs are higher than the model suggests.\n",
        "The sample data does not provide sufficient evidence to conclude that the actual costs are significantly different from the theoretical costs."
      ],
      "metadata": {
        "id": "LLAsBjckGJ6Y"
      }
    }
  ]
}