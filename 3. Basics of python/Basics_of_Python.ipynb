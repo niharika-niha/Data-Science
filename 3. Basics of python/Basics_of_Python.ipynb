{
  "nbformat": 4,
  "nbformat_minor": 0,
  "metadata": {
    "colab": {
      "provenance": []
    },
    "kernelspec": {
      "name": "python3",
      "display_name": "Python 3"
    },
    "language_info": {
      "name": "python"
    }
  },
  "cells": [
    {
      "cell_type": "markdown",
      "source": [
        "#Basics of Python Assignment solutions"
      ],
      "metadata": {
        "id": "ww8Q2S--sZ8I"
      }
    },
    {
      "cell_type": "markdown",
      "source": [
        "\n",
        "1. Write a Python program that checks whether a given number is prime or not. A prime number is a natural number greater than 1 that has no positive divisors other than 1 and itself.\n",
        "\n",
        "\n"
      ],
      "metadata": {
        "id": "Zq_TyuWysO5B"
      }
    },
    {
      "cell_type": "code",
      "source": [
        "number = 10\n",
        "# primes numbers are always >1\n",
        "if number < 1:\n",
        "  print(number, \"is not a prime number\")\n",
        "else:\n",
        "  # Iterate from 2 to n // 2\n",
        "  for i in range(2, (number//2)+1):\n",
        "    # If number is divisible by any number between 2 and n / 2, then it is not a prime number.\n",
        "    if (number % i) == 0:\n",
        "      print(number, \"is not a prime number\")\n",
        "      break\n",
        "    else:\n",
        "      print(number, \"is a prime number\")\n",
        "\n"
      ],
      "metadata": {
        "colab": {
          "base_uri": "https://localhost:8080/"
        },
        "id": "qMGS4z2lcbN_",
        "outputId": "f9d78299-8d5b-47eb-f716-f05a864a2122"
      },
      "execution_count": null,
      "outputs": [
        {
          "output_type": "stream",
          "name": "stdout",
          "text": [
            "10 is not a prime number\n"
          ]
        }
      ]
    },
    {
      "cell_type": "markdown",
      "source": [
        "2. Develop a Python program that generates two random numbers and asks the user to enter the product of these numbers. The program should then check if the user's answer is correct and display an appropriate message."
      ],
      "metadata": {
        "id": "PLtALRPRdrtu"
      }
    },
    {
      "cell_type": "code",
      "source": [
        "import random\n",
        "\n",
        "# Generate two random numbers\n",
        "num1 = random.randint(1, 10)\n",
        "num2 = random.randint(1, 10)\n",
        "\n",
        "# Calculate the product of the two numbers\n",
        "product = num1 * num2\n",
        "\n",
        "# Ask the user to enter the product of the numbers num1 and num2\n",
        "user_answer = int(input(f\"What is the product of {num1} and {num2}? \"))\n",
        "\n",
        "# Display if user's answer is correct or wrong\n",
        "if user_answer == product:\n",
        "    print(\"your answer is correct!\")\n",
        "else:\n",
        "    print(f\"Wrong Answer, better luck next time\\nCorrect answer: {product}\")"
      ],
      "metadata": {
        "colab": {
          "base_uri": "https://localhost:8080/"
        },
        "id": "dPbaW3dHdhC-",
        "outputId": "27d32dd3-53d6-40f8-8f0c-2fdacf643a33"
      },
      "execution_count": null,
      "outputs": [
        {
          "output_type": "stream",
          "name": "stdout",
          "text": [
            "What is the product of 5 and 3? 15\n",
            "Kudos, your answer is correct!\n"
          ]
        }
      ]
    },
    {
      "cell_type": "markdown",
      "source": [
        "3.Create a Python script that prints the squares of all even or odd numbers within the range of 100 to 200. Choose either even or odd numbers and document your choice in the code."
      ],
      "metadata": {
        "id": "vsz8h2bFfxvU"
      }
    },
    {
      "cell_type": "code",
      "source": [
        "#using list comprehension to store squares of odd numbers along with if condition to check the odd numbers from 100 to 200.\n",
        "squares_of_oddNumbers = [i for i in range(100, 200) if i % 2 != 0]\n",
        "print(*squares_of_oddNumbers)"
      ],
      "metadata": {
        "colab": {
          "base_uri": "https://localhost:8080/"
        },
        "id": "Xy1ZNMtef3fj",
        "outputId": "53f4a7ca-525b-4a9c-8385-04bcf57cdca2"
      },
      "execution_count": null,
      "outputs": [
        {
          "output_type": "stream",
          "name": "stdout",
          "text": [
            "101 103 105 107 109 111 113 115 117 119 121 123 125 127 129 131 133 135 137 139 141 143 145 147 149 151 153 155 157 159 161 163 165 167 169 171 173 175 177 179 181 183 185 187 189 191 193 195 197 199\n"
          ]
        }
      ]
    },
    {
      "cell_type": "code",
      "source": [
        "4. write a program to count the number of words in a given text."
      ],
      "metadata": {
        "id": "ixgVi11ag0K9"
      },
      "execution_count": null,
      "outputs": []
    },
    {
      "cell_type": "code",
      "source": [
        "#input string\n",
        "input_text = \"This is a sample text. This text will be used to demonstrate the word counter.\"\n",
        "# list of words in string\n",
        "words=input_text.split()\n",
        "# count of words using count method in dictonary comprehension\n",
        "res = {i:words.count(i) for i in words}\n",
        "#print key and value in particluar format. ex:'This': 2\n",
        "for key, value in res.items():\n",
        "\tprint(f\"'{key}': {value}\")\n"
      ],
      "metadata": {
        "colab": {
          "base_uri": "https://localhost:8080/"
        },
        "id": "LEHRr8png95j",
        "outputId": "f02c2e80-2eaf-4403-95f5-fe11b7b7ed3c"
      },
      "execution_count": null,
      "outputs": [
        {
          "output_type": "stream",
          "name": "stdout",
          "text": [
            "'This': 2\n",
            "'is': 1\n",
            "'a': 1\n",
            "'sample': 1\n",
            "'text.': 1\n",
            "'text': 1\n",
            "'will': 1\n",
            "'be': 1\n",
            "'used': 1\n",
            "'to': 1\n",
            "'demonstrate': 1\n",
            "'the': 1\n",
            "'word': 1\n",
            "'counter.': 1\n"
          ]
        }
      ]
    },
    {
      "cell_type": "markdown",
      "source": [
        "5. Write a Python function called is_palindrome that takes a string as input and returns True if the string is a palindrome, and False otherwise. A palindrome is a word, phrase, number, or other sequence of characters that reads the same forward and backward, ignoring spaces, punctuation, and capitalization."
      ],
      "metadata": {
        "id": "ybwXjCiCl2A9"
      }
    },
    {
      "cell_type": "code",
      "source": [
        "# function to check if the word is palindrome or not\n",
        "def is_palindrome(s):\n",
        "    return s == s[::-1]\n",
        "\n",
        "# import the regular expression built in package\n",
        "import re\n",
        "word= \"1ra ce cAr1!\"\n",
        "# removing all the spaces, punctuations, and capitalization\n",
        "filtered_word=re.sub(\"[.'!#$%&\\'()*+,-./:;<=>?@[\\\\]^ `{|}~]\",\"\",word).lower()\n",
        "#passing function to a variable\n",
        "result = is_palindrome(filtered_word)\n",
        "print(result)\n",
        "\n",
        "\n"
      ],
      "metadata": {
        "colab": {
          "base_uri": "https://localhost:8080/"
        },
        "id": "sKiGSHWClxJP",
        "outputId": "3f5b50fd-e6b4-4a56-9aa1-5c00b4a04365"
      },
      "execution_count": null,
      "outputs": [
        {
          "output_type": "stream",
          "name": "stdout",
          "text": [
            "True\n"
          ]
        }
      ]
    }
  ]
}